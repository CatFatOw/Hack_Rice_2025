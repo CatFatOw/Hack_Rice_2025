{
  "nbformat": 4,
  "nbformat_minor": 0,
  "metadata": {
    "colab": {
      "provenance": [],
      "gpuType": "T4",
      "authorship_tag": "ABX9TyM0sTa4BIzVxyiLda1Siu+2",
      "include_colab_link": true
    },
    "kernelspec": {
      "name": "python3",
      "display_name": "Python 3"
    },
    "language_info": {
      "name": "python"
    },
    "accelerator": "GPU"
  },
  "cells": [
    {
      "cell_type": "markdown",
      "metadata": {
        "id": "view-in-github",
        "colab_type": "text"
      },
      "source": [
        "<a href=\"https://colab.research.google.com/github/CatFatOw/Hack_Rice_2025/blob/main/Hackathon_Work_Segmentor.ipynb\" target=\"_parent\"><img src=\"https://colab.research.google.com/assets/colab-badge.svg\" alt=\"Open In Colab\"/></a>"
      ]
    },
    {
      "cell_type": "markdown",
      "source": [
        "# Extract text from images (turn to flash card/summary?)\n",
        "\n",
        "## PaddleOCR Text Extraction Pipeline\n",
        "\n",
        "This project provides a Python pipeline for performing OCR (Optical Character Recognition) on images using PaddleOCR. The pipeline allows you to:  \n",
        "\n",
        "- Run OCR on a folder of images  \n",
        "- Save predicted images with bounding boxes  \n",
        "- Save recognized text to JSON files  \n",
        "- Extract text from JSON results  \n",
        "- Compare original and predicted images visually  \n",
        "\n",
        "---\n",
        "\n",
        "## 📦 Installation\n",
        "\n",
        "Make sure you have the required packages installed:\n",
        "\n",
        "```bash\n",
        "git clone https://github.com/PaddlePaddle/PaddleOCR.git\n",
        "pip install paddleocr paddlepaddle opencv-python matplotlib tqdm\n"
      ],
      "metadata": {
        "id": "Yc-3gkNYOS_l"
      }
    },
    {
      "cell_type": "code",
      "source": [
        "from tqdm import tqdm\n",
        "from paddleocr import PaddleOCR\n",
        "import cv2\n",
        "import matplotlib.pyplot as plt\n",
        "import os\n",
        "import json\n",
        "\n",
        "\n",
        "def model_predict(img_dir, output_dir_name):\n",
        "  \"\"\"\n",
        "  Function calls an OCR model and extracts text\n",
        "\n",
        "  img_path:\n",
        "    - Path to the image (string)\n",
        "\n",
        "  \"\"\"\n",
        "  ocr = PaddleOCR(\n",
        "      use_doc_orientation_classify=True,\n",
        "      use_doc_unwarping=True,\n",
        "      use_textline_orientation=False)\n",
        "\n",
        "  # Loop through the directory\n",
        "  img_list_dir = os.listdir(img_dir)\n",
        "  for img in img_list_dir:\n",
        "    img = os.path.join(img_dir, img)\n",
        "    result = ocr.predict(\n",
        "        input = img\n",
        "    )\n",
        "    for res in tqdm(result, desc=\"Please be patient\", total=len(result)):\n",
        "      res.print()\n",
        "      res.save_to_img(output_dir_name)\n",
        "      res.save_to_json(output_dir_name)\n",
        "\n",
        "\n",
        "\n",
        "def display_stuff(original, predicted):\n",
        "  \"\"\"\n",
        "  Function takes in original image, predicted image, and extracted text json\n",
        "\n",
        "  original (string): path to original image\n",
        "  predicted (string): path to predicted image\n",
        "  text_json (string): path to text json\n",
        "  \"\"\"\n",
        "\n",
        "  og_img = cv2.imread(original)\n",
        "  pred_img = cv2.imread(predicted)\n",
        "\n",
        "  # Display the images first\n",
        "  og_img = cv2.cvtColor(og_img, cv2.COLOR_BGR2RGB)\n",
        "  pred_img = cv2.cvtColor(pred_img, cv2.COLOR_BGR2RGB)\n",
        "\n",
        "  og_img = cv2.resize(og_img, (500, 500))\n",
        "  pred_img = cv2.resize(pred_img, (500, 500))\n",
        "\n",
        "  plt.title(\"Original VS Predicted\")\n",
        "  plt.axis(\"Off\")\n",
        "  plt.subplot(1,2,1)\n",
        "  plt.imshow(og_img)\n",
        "  plt.axis(\"Off\")\n",
        "  plt.subplot(1,2,2)\n",
        "  plt.imshow(pred_img)\n",
        "  plt.axis(\"Off\")\n",
        "\n",
        "  plt.show()\n",
        "\n",
        "\n",
        "def extract_text(text_json):\n",
        "  \"\"\"\n",
        "  Function takes in original image, predicted image, and extracted text json\n",
        "\n",
        "  text_json (string): path to text json\n",
        "  \"\"\"\n",
        "  # Load the JSON (from file or string)\n",
        "  with open(text_json, \"r\") as f:\n",
        "      data = json.load(f)\n",
        "      # Extract just the recognized words\n",
        "      words = data[\"rec_texts\"]\n",
        "\n",
        "  print(*words)\n",
        "\n",
        "\n",
        "\n",
        "# Predicts on folder of images\n",
        "img_dir = \"/content/test_images\"\n",
        "out_dir = \"/content/model_output\"\n",
        "model_predict(img_dir, out_dir)\n",
        "\n",
        "# Displays the images\n",
        "original = \"/content/test_images/xi_test.png\"\n",
        "predicted = \"/content/model_output/xi_test_ocr_res_img.png\"\n",
        "\n",
        "display_stuff(original, predicted)\n",
        "\n",
        "\n",
        "# Extracts the text\n",
        "text_json = \"/content/model_output/INL_Exceptional_Innovation_Wu_Michael_res.json\"\n",
        "extract_text(text_json)\n",
        "\n",
        "\n",
        "\n",
        "\n",
        "\n"
      ],
      "metadata": {
        "colab": {
          "base_uri": "https://localhost:8080/"
        },
        "id": "TfRotS3P_oPC",
        "outputId": "67c7c076-3449-40d1-a825-c9c0027fcc01"
      },
      "execution_count": 36,
      "outputs": [
        {
          "output_type": "stream",
          "name": "stdout",
          "text": [
            "Exceptional InnOVATION Contribution THIS CERTIFICATE OF APPRECIATION IS AWARDED TO Michael Y. Wu For creating valuable INL intellectual property,entitled Post Irradiation Examination Dislocation Defect Detection Software Congratulations on your innovation and thank you for a job well done. August 31,2024 Date Director of Technology Deplyment iNL National Laboratory Idaho\n"
          ]
        }
      ]
    },
    {
      "cell_type": "code",
      "source": [],
      "metadata": {
        "id": "_RvlxzMkO0vK"
      },
      "execution_count": null,
      "outputs": []
    }
  ]
}